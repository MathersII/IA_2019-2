{
 "cells": [
  {
   "cell_type": "code",
   "execution_count": null,
   "metadata": {
    "collapsed": true
   },
   "outputs": [],
   "source": [
    "class TableroAjedrez:\n",
    "    def __initi__(self):\n",
    "        self.tablero_ajedrez[8][8] =[][]\n",
    "        \n",
    "    def posicionaReina(posicionReinaX, posicionReinaY):\n",
    "        if tablero[posicionReinaX][posicionReinaY] != 'r':\n",
    "            tablero[posicionReinaX][posicionReinaY] = 'r'\n",
    "            return True\n",
    "        else\n",
    "            return False\n",
    "    def "
   ]
  },
  {
   "cell_type": "code",
   "execution_count": null,
   "metadata": {
    "collapsed": true
   },
   "outputs": [],
   "source": [
    "#Problema de las 8 reinas\n",
    "print(\"dame la posicion en X de la reina que desees colocar: \")\n",
    "posicionReinaX = input()\n",
    "print(\"dame la posicion en Y de la reina que desees colocar: \")\n",
    "posicionReinaY = input()\n",
    "posicionaReina(posicionReinaX, posicionReinaY)\n"
   ]
  }
 ],
 "metadata": {
  "kernelspec": {
   "display_name": "Python 3",
   "language": "python",
   "name": "python3"
  },
  "language_info": {
   "codemirror_mode": {
    "name": "ipython",
    "version": 3
   },
   "file_extension": ".py",
   "mimetype": "text/x-python",
   "name": "python",
   "nbconvert_exporter": "python",
   "pygments_lexer": "ipython3",
   "version": "3.6.3"
  }
 },
 "nbformat": 4,
 "nbformat_minor": 2
}
